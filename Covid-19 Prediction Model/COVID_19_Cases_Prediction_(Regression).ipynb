{
  "nbformat": 4,
  "nbformat_minor": 0,
  "metadata": {
    "colab": {
      "name": "COVID-19 Cases Prediction (Regression)",
      "provenance": [],
      "collapsed_sections": [],
      "authorship_tag": "ABX9TyM5Duxr3OF1lg/8XU1mSlZr",
      "include_colab_link": true
    },
    "kernelspec": {
      "name": "python3",
      "display_name": "Python 3"
    },
    "language_info": {
      "name": "python"
    },
    "accelerator": "GPU"
  },
  "cells": [
    {
      "cell_type": "markdown",
      "metadata": {
        "id": "view-in-github",
        "colab_type": "text"
      },
      "source": [
        "<a href=\"https://colab.research.google.com/github/Yzyz-99/DL_Model/blob/main/Covid-19%20Prediction%20Model/COVID_19_Cases_Prediction_(Regression).ipynb\" target=\"_parent\"><img src=\"https://colab.research.google.com/assets/colab-badge.svg\" alt=\"Open In Colab\"/></a>"
      ]
    },
    {
      "cell_type": "code",
      "execution_count": 2,
      "metadata": {
        "id": "IM8l0aC_NNz8"
      },
      "outputs": [],
      "source": [
        "tr_path = 'covid.train.csv'  # path to training data\n",
        "tt_path = 'covid.test.csv'   # path to testing data"
      ]
    },
    {
      "cell_type": "code",
      "source": [
        "#Pytorch\n",
        "import torch\n",
        "import torch.nn as nn\n",
        "from torch.utils.data import Dataset, DataLoader\n",
        "\n",
        "# Data processing\n",
        "import numpy as np\n",
        "import csv\n",
        "import os\n",
        "\n",
        "# Plotting\n",
        "import matplotlib.pyplot as plt\n",
        "from matplotlib.pyplot import figure\n",
        "\n",
        "myseed = 42029 # set a random seed for reproducibility\n",
        "torch.backends.cudnn.deterministic = True\n",
        "torch.backends.cudnn.benchmark = False\n",
        "np.random.seed(myseed)\n",
        "torch.manual_seed(myseed)\n",
        "if torch.cuda.is_available():\n",
        "  torch.cuda.manual_seed_all(myseed)"
      ],
      "metadata": {
        "id": "ZWikK7vnNWvx"
      },
      "execution_count": 3,
      "outputs": []
    },
    {
      "cell_type": "code",
      "source": [
        "def get_device():\n",
        "  return 'cuda' if torch.cuda.is_available() else 'cpu'\n",
        "\n",
        "def plot_learning_curve(loss_record, title=''):\n",
        "  total_steps = len(loss_record['train'])\n",
        "  x_1 = range(total_steps)\n",
        "  x_2 = x_1[::len(loss_record['train'])// len(loss_record['dev'])]\n",
        "  figure(figsize=(6,4))\n",
        "  plt.plot(x_1, loss_record['train'], c='tab:red', label='train')\n",
        "  plt.plot(x_2, loss_record['dev'], c='tab:cyan', label='dev')\n",
        "  plt.ylim(0.0, 5.)\n",
        "  plt.xlabel('Training steps')\n",
        "  plt.ylabel('MSE loss')\n",
        "  plt.title('Learning curve of {}'.format(title))\n",
        "  plt.legend()\n",
        "  plt.show()\n",
        "\n",
        "def plot_pred(dv_set, model, device, lim=35, preds=None, targets=None):\n",
        "  if preds is None or targets is None:\n",
        "    model.eval()\n",
        "    preds, targets = [], []\n",
        "    for x, y in dv_set:\n",
        "      x, y = x.to(device), y.to(device)\n",
        "      with torch.no_grad():\n",
        "        pred=model(x)\n",
        "        preds.append(pred.detach().cpu())\n",
        "        targets.append(y.detach().cpu())\n",
        "    preds = torch.cat(preds, dim=0).numpy()\n",
        "    targets = torch.cat(targets, dim=0).numpy()\n",
        "  \n",
        "  figure(figsize=(5,5))\n",
        "  plt.scatter(targets, preds, c='r', alpha=0.5)\n",
        "  plt.plot([-0.2, lim], [-0.2, lim], c='b')\n",
        "  plt.xlim(-0.2, lim)\n",
        "  plt.ylim(-0.2, lim)\n",
        "  plt.xlabel('ground truth value')\n",
        "  plt.ylabel('predicted value')\n",
        "  plt.title('Ground Truth V.S. Prediction')\n",
        "  plt.show()"
      ],
      "metadata": {
        "id": "dWkbMbwyRmYt"
      },
      "execution_count": 4,
      "outputs": []
    },
    {
      "cell_type": "code",
      "source": [
        "class COVID19Dataset(Dataset):\n",
        "  def __init__(self, path, mode='train', target_only=False):\n",
        "    self.mode=mode\n",
        "    with open(path, 'r') as fp:\n",
        "      data = list(csv.reader(fp))\n",
        "      data = np.array(data[1:])[:, 1:].astype(float)\n",
        "\n",
        "    if not target_only:\n",
        "      feats = list(range(93))\n",
        "    else:\n",
        "      feats = list(range(1, 40)) + [57, 75]\n",
        "    \n",
        "    if mode == 'test':\n",
        "      data = data[:, feats]\n",
        "      self.data = torch.FloatTensor(data)\n",
        "    \n",
        "    else:\n",
        "      target = data[:, -1]\n",
        "      data = data[:, feats]\n",
        "\n",
        "      if mode == 'train':\n",
        "        indices = [i for i in range(len(data)) if i % 10 != 0]\n",
        "      elif mode == 'dev':\n",
        "        indices = [i for i in range(len(data)) if i % 10 == 0]\n",
        "\n",
        "      self.data = torch.FloatTensor(data[indices])\n",
        "      self.target = torch.FloatTensor(target[indices])\n",
        "    \n",
        "    self.data[:, 40:] = \\\n",
        "      (self.data[:, 40:] - self.data[:, 40:].mean(dim=0, keepdim=True)) \\\n",
        "      / self.data[:, 40:].std(dim=0, keepdim=True)\n",
        "\n",
        "    self.dim = self.data.shape[1]\n",
        "\n",
        "    print('Finished reading the {} set of COVID19 Dataset ({} samples found, each dim = {})'\n",
        "          .format(mode, len(self.data), self.dim))\n",
        "    \n",
        "  def __getitem__(self, index):\n",
        "    if self.mode in ['train', 'dev']:\n",
        "      return self.data[index], self.target[index]\n",
        "    else:\n",
        "      return self.data[index]\n",
        "\n",
        "  def __len__(self):\n",
        "    return len(self.data)"
      ],
      "metadata": {
        "id": "XIRyvwB2awVK"
      },
      "execution_count": 5,
      "outputs": []
    },
    {
      "cell_type": "code",
      "source": [
        "def prep_dataloader(path, mode, batch_size, n_jobs=0, target_only=False):\n",
        "  dataset = COVID19Dataset(path, mode=mode, target_only=target_only)\n",
        "  dataloader = DataLoader(dataset, batch_size, shuffle=(mode=='train'),\n",
        "                          drop_last=False, num_workers=n_jobs, pin_memory=True)\n",
        "  return dataloader"
      ],
      "metadata": {
        "id": "RO7O0tCln2cs"
      },
      "execution_count": 6,
      "outputs": []
    },
    {
      "cell_type": "code",
      "source": [
        "class NeuralNet(nn.Module):\n",
        "  def __init__(self, input_dim):\n",
        "    super(NeuralNet, self).__init__()\n",
        "\n",
        "    self.net = nn.Sequential(\n",
        "        nn.Linear(input_dim, 64),\n",
        "        nn.ReLU(),\n",
        "        nn.Linear(64,1)\n",
        "    )\n",
        "\n",
        "    self.criterion = nn.MSELoss(reduction='mean')\n",
        "\n",
        "  def forward(self, x):\n",
        "    return self.net(x).squeeze(1)\n",
        "\n",
        "  def cal_loss(self, pred, target):\n",
        "    regularization_loss = 0\n",
        "    for param in model.parameters():\n",
        "      # TODO: you may implement L1/L2 regularization here\n",
        "      # 使用L2正则项\n",
        "      # regularization_loss += torch.sum(abs(param))\n",
        "      regularization_loss += torch.sum(param ** 2)\n",
        "    return self.criterion(pred, target) + 0.00075 * regularization_loss"
      ],
      "metadata": {
        "id": "wXYOKx-Ho0uY"
      },
      "execution_count": 7,
      "outputs": []
    },
    {
      "cell_type": "code",
      "source": [
        "def train(tr_set, dv_set, model, config, device):\n",
        "  n_epochs = config['n_epochs']\n",
        "\n",
        "  # Setup optimizer\n",
        "  optimizer = getattr(torch.optim, config['optimizer'])(\n",
        "      model.parameters(), **config['optim_hparas'])\n",
        "\n",
        "  min_mse = 1000\n",
        "  loss_record = {'train': [], 'dev': []}\n",
        "  early_stop_cnt = 0\n",
        "  epoch = 0\n",
        "\n",
        "  while epoch < n_epochs:\n",
        "    model.train()\n",
        "    for x, y in tr_set:\n",
        "      optimizer.zero_grad()\n",
        "      x,y = x.to(device), y.to(device)\n",
        "      pred = model(x)\n",
        "      mse_loss = model.cal_loss(pred, y)\n",
        "      mse_loss.backward()\n",
        "      optimizer.step()\n",
        "      loss_record['train'].append(mse_loss.detach().cpu().item())\n",
        "\n",
        "    dev_mse = dev(dv_set, model, device)\n",
        "    if dev_mse < min_mse:\n",
        "      min_mse = dev_mse\n",
        "      print('Saving model (epoch = {:4d}, loss = {:4f})'\n",
        "            .format(epoch+1, min_mse))\n",
        "      torch.save(model.state_dict(), config['save_path'])\n",
        "      early_stop_cnt = 0\n",
        "    else:\n",
        "      early_stop_cnt +=1\n",
        "\n",
        "    epoch+=1\n",
        "    loss_record['dev'].append(dev_mse)\n",
        "    if early_stop_cnt > config['early_stop']:\n",
        "      break;\n",
        "\n",
        "  print('Finish training after {} epochs'.format(epoch))\n",
        "  return min_mse, loss_record"
      ],
      "metadata": {
        "id": "cY9Vs211ste3"
      },
      "execution_count": 8,
      "outputs": []
    },
    {
      "cell_type": "code",
      "source": [
        "def dev(dv_set, model, device):\n",
        "  model.eval()\n",
        "  total_loss = 0\n",
        "  for x, y in dv_set:\n",
        "    x, y = x.to(device), y.to(device)\n",
        "    with torch.no_grad():\n",
        "      pred = model(x)\n",
        "      mse_loss = model.cal_loss(pred, y)\n",
        "    total_loss += mse_loss.detach().cpu().item() * len(x)\n",
        "  total_loss = total_loss/len(dv_set.dataset)\n",
        "  \n",
        "  return total_loss"
      ],
      "metadata": {
        "id": "lSpDp9Ibxq45"
      },
      "execution_count": 9,
      "outputs": []
    },
    {
      "cell_type": "code",
      "source": [
        "def test(tt_set, model, device):\n",
        "  model.eval()\n",
        "  preds = []\n",
        "  for x in tt_set:\n",
        "    x = x.to(device)\n",
        "    with torch.no_grad():\n",
        "      pred = model(x)\n",
        "      preds.append(pred.detach().cpu())\n",
        "  preds = torch.cat(preds, dim=0).numpy()\n",
        "  return preds"
      ],
      "metadata": {
        "id": "2XM8BrjJ3RW-"
      },
      "execution_count": 10,
      "outputs": []
    },
    {
      "cell_type": "code",
      "source": [
        "device = get_device()\n",
        "os.makedirs('models', exist_ok=True)\n",
        "target_only = True\n",
        "\n",
        "config ={\n",
        "    'n_epochs': 3000,\n",
        "    'batch_size': 270,\n",
        "    'optimizer': 'SGD',\n",
        "    'optim_hparas':{\n",
        "        'lr': 0.001,\n",
        "        'momentum': 0.9\n",
        "    },\n",
        "    'early_stop': 200,\n",
        "    'save_path': 'models/model.pth'\n",
        "}"
      ],
      "metadata": {
        "id": "-ekEYhQE4QlM"
      },
      "execution_count": 11,
      "outputs": []
    },
    {
      "cell_type": "code",
      "source": [
        "tr_set = prep_dataloader(tr_path, 'train', config['batch_size'], target_only=target_only)\n",
        "dv_set = prep_dataloader(tr_path, 'dev', config['batch_size'], target_only=target_only)\n",
        "tt_set = prep_dataloader(tt_path, 'test', config['batch_size'], target_only=target_only)"
      ],
      "metadata": {
        "id": "gJAHZWJu42NB",
        "colab": {
          "base_uri": "https://localhost:8080/"
        },
        "outputId": "9f2a53fa-22bf-47da-b7a8-f3b1e550ccda"
      },
      "execution_count": 12,
      "outputs": [
        {
          "output_type": "stream",
          "name": "stdout",
          "text": [
            "Finished reading the train set of COVID19 Dataset (2430 samples found, each dim = 41)\n",
            "Finished reading the dev set of COVID19 Dataset (270 samples found, each dim = 41)\n",
            "Finished reading the test set of COVID19 Dataset (893 samples found, each dim = 41)\n"
          ]
        }
      ]
    },
    {
      "cell_type": "code",
      "source": [
        "model = NeuralNet(tr_set.dataset.dim).to(device)"
      ],
      "metadata": {
        "id": "IsAnafuHtDBD"
      },
      "execution_count": 13,
      "outputs": []
    },
    {
      "cell_type": "code",
      "source": [
        "model_loss, model_loss_record = train(tr_set, dv_set, model, config, device)"
      ],
      "metadata": {
        "id": "c9joBzNstgCT",
        "colab": {
          "base_uri": "https://localhost:8080/"
        },
        "outputId": "38d0d780-c721-4813-94e8-70be94a8f0b5"
      },
      "execution_count": 14,
      "outputs": [
        {
          "output_type": "stream",
          "name": "stdout",
          "text": [
            "Saving model (epoch =    1, loss = 2.208721)\n",
            "Saving model (epoch =    9, loss = 2.128921)\n",
            "Saving model (epoch =   10, loss = 2.110929)\n",
            "Saving model (epoch =   11, loss = 2.101597)\n",
            "Saving model (epoch =   12, loss = 2.099211)\n",
            "Saving model (epoch =   15, loss = 2.092969)\n",
            "Saving model (epoch =   17, loss = 2.083263)\n",
            "Saving model (epoch =   18, loss = 2.081938)\n",
            "Saving model (epoch =   20, loss = 2.078972)\n",
            "Saving model (epoch =   25, loss = 2.076951)\n",
            "Saving model (epoch =   32, loss = 2.056265)\n",
            "Saving model (epoch =   33, loss = 2.049537)\n",
            "Saving model (epoch =   38, loss = 2.036706)\n",
            "Saving model (epoch =   40, loss = 2.027541)\n",
            "Saving model (epoch =   41, loss = 2.023217)\n",
            "Saving model (epoch =   42, loss = 2.022080)\n",
            "Saving model (epoch =   45, loss = 2.021143)\n",
            "Saving model (epoch =   47, loss = 2.012620)\n",
            "Saving model (epoch =   51, loss = 2.001452)\n",
            "Saving model (epoch =   55, loss = 1.995793)\n",
            "Saving model (epoch =   60, loss = 1.984473)\n",
            "Saving model (epoch =   61, loss = 1.971958)\n",
            "Saving model (epoch =   67, loss = 1.960834)\n",
            "Saving model (epoch =   71, loss = 1.957316)\n",
            "Saving model (epoch =   77, loss = 1.930801)\n",
            "Saving model (epoch =   82, loss = 1.916508)\n",
            "Saving model (epoch =   86, loss = 1.912816)\n",
            "Saving model (epoch =   87, loss = 1.912472)\n",
            "Saving model (epoch =   88, loss = 1.911002)\n",
            "Saving model (epoch =   89, loss = 1.899212)\n",
            "Saving model (epoch =   92, loss = 1.888842)\n",
            "Saving model (epoch =   97, loss = 1.876496)\n",
            "Saving model (epoch =  100, loss = 1.866711)\n",
            "Saving model (epoch =  105, loss = 1.859886)\n",
            "Saving model (epoch =  107, loss = 1.849660)\n",
            "Saving model (epoch =  115, loss = 1.826053)\n",
            "Saving model (epoch =  121, loss = 1.813913)\n",
            "Saving model (epoch =  122, loss = 1.802437)\n",
            "Saving model (epoch =  125, loss = 1.788220)\n",
            "Saving model (epoch =  142, loss = 1.783899)\n",
            "Saving model (epoch =  143, loss = 1.744468)\n",
            "Saving model (epoch =  153, loss = 1.730996)\n",
            "Saving model (epoch =  154, loss = 1.726733)\n",
            "Saving model (epoch =  159, loss = 1.706602)\n",
            "Saving model (epoch =  164, loss = 1.693238)\n",
            "Saving model (epoch =  174, loss = 1.659843)\n",
            "Saving model (epoch =  175, loss = 1.658855)\n",
            "Saving model (epoch =  176, loss = 1.657357)\n",
            "Saving model (epoch =  179, loss = 1.642487)\n",
            "Saving model (epoch =  181, loss = 1.641028)\n",
            "Saving model (epoch =  186, loss = 1.637638)\n",
            "Saving model (epoch =  188, loss = 1.623163)\n",
            "Saving model (epoch =  200, loss = 1.601138)\n",
            "Saving model (epoch =  201, loss = 1.599038)\n",
            "Saving model (epoch =  206, loss = 1.576574)\n",
            "Saving model (epoch =  207, loss = 1.568872)\n",
            "Saving model (epoch =  212, loss = 1.565931)\n",
            "Saving model (epoch =  214, loss = 1.550078)\n",
            "Saving model (epoch =  222, loss = 1.524610)\n",
            "Saving model (epoch =  228, loss = 1.520748)\n",
            "Saving model (epoch =  235, loss = 1.503323)\n",
            "Saving model (epoch =  236, loss = 1.496635)\n",
            "Saving model (epoch =  244, loss = 1.480266)\n",
            "Saving model (epoch =  245, loss = 1.478343)\n",
            "Saving model (epoch =  255, loss = 1.472397)\n",
            "Saving model (epoch =  267, loss = 1.441336)\n",
            "Saving model (epoch =  271, loss = 1.428500)\n",
            "Saving model (epoch =  276, loss = 1.397926)\n",
            "Saving model (epoch =  286, loss = 1.381498)\n",
            "Saving model (epoch =  307, loss = 1.365234)\n",
            "Saving model (epoch =  316, loss = 1.352355)\n",
            "Saving model (epoch =  321, loss = 1.341837)\n",
            "Saving model (epoch =  324, loss = 1.331809)\n",
            "Saving model (epoch =  330, loss = 1.322497)\n",
            "Saving model (epoch =  336, loss = 1.315384)\n",
            "Saving model (epoch =  340, loss = 1.300316)\n",
            "Saving model (epoch =  349, loss = 1.298221)\n",
            "Saving model (epoch =  353, loss = 1.284973)\n",
            "Saving model (epoch =  372, loss = 1.277230)\n",
            "Saving model (epoch =  378, loss = 1.273794)\n",
            "Saving model (epoch =  387, loss = 1.270956)\n",
            "Saving model (epoch =  398, loss = 1.268296)\n",
            "Saving model (epoch =  410, loss = 1.254069)\n",
            "Saving model (epoch =  411, loss = 1.253891)\n",
            "Saving model (epoch =  421, loss = 1.242682)\n",
            "Saving model (epoch =  425, loss = 1.221164)\n",
            "Saving model (epoch =  427, loss = 1.213685)\n",
            "Saving model (epoch =  431, loss = 1.213083)\n",
            "Saving model (epoch =  434, loss = 1.210739)\n",
            "Saving model (epoch =  477, loss = 1.206990)\n",
            "Saving model (epoch =  481, loss = 1.202356)\n",
            "Saving model (epoch =  484, loss = 1.193843)\n",
            "Saving model (epoch =  491, loss = 1.187830)\n",
            "Saving model (epoch =  497, loss = 1.180185)\n",
            "Saving model (epoch =  500, loss = 1.174581)\n",
            "Saving model (epoch =  501, loss = 1.174500)\n",
            "Saving model (epoch =  506, loss = 1.159654)\n",
            "Saving model (epoch =  542, loss = 1.155996)\n",
            "Saving model (epoch =  552, loss = 1.154453)\n",
            "Saving model (epoch =  554, loss = 1.153016)\n",
            "Saving model (epoch =  555, loss = 1.150698)\n",
            "Saving model (epoch =  579, loss = 1.150319)\n",
            "Saving model (epoch =  586, loss = 1.141043)\n",
            "Saving model (epoch =  622, loss = 1.137638)\n",
            "Saving model (epoch =  633, loss = 1.130750)\n",
            "Saving model (epoch =  634, loss = 1.122490)\n",
            "Saving model (epoch =  641, loss = 1.117993)\n",
            "Saving model (epoch =  643, loss = 1.117659)\n",
            "Saving model (epoch =  682, loss = 1.111650)\n",
            "Saving model (epoch =  704, loss = 1.106898)\n",
            "Saving model (epoch =  705, loss = 1.098907)\n",
            "Saving model (epoch =  767, loss = 1.098639)\n",
            "Saving model (epoch =  783, loss = 1.096057)\n",
            "Saving model (epoch =  816, loss = 1.090315)\n",
            "Saving model (epoch =  827, loss = 1.087859)\n",
            "Saving model (epoch =  966, loss = 1.087462)\n",
            "Saving model (epoch =  979, loss = 1.083474)\n",
            "Saving model (epoch = 1116, loss = 1.082623)\n",
            "Saving model (epoch = 1121, loss = 1.081623)\n",
            "Saving model (epoch = 1125, loss = 1.078081)\n",
            "Saving model (epoch = 1129, loss = 1.074522)\n",
            "Saving model (epoch = 1130, loss = 1.074065)\n",
            "Saving model (epoch = 1142, loss = 1.072766)\n",
            "Saving model (epoch = 1144, loss = 1.066449)\n",
            "Finish training after 1345 epochs\n"
          ]
        }
      ]
    },
    {
      "cell_type": "code",
      "source": [
        "plot_learning_curve(model_loss_record, title='deep model')"
      ],
      "metadata": {
        "colab": {
          "base_uri": "https://localhost:8080/",
          "height": 295
        },
        "id": "WtqkQ_gQhPk-",
        "outputId": "3ec2126b-ae2d-4114-a6fd-843b4451064e"
      },
      "execution_count": 15,
      "outputs": [
        {
          "output_type": "display_data",
          "data": {
            "image/png": "[encoded data removed]",
            "text/plain": [
              "<Figure size 432x288 with 1 Axes>"
            ]
          },
          "metadata": {
            "needs_background": "light"
          }
        }
      ]
    },
    {
      "cell_type": "code",
      "source": [
        "del model\n",
        "model = NeuralNet(tr_set.dataset.dim).to(device)\n",
        "ckpt = torch.load(config['save_path'], map_location='cpu')\n",
        "model.load_state_dict(ckpt)\n",
        "plot_pred(dv_set, model, device)"
      ],
      "metadata": {
        "colab": {
          "base_uri": "https://localhost:8080/",
          "height": 350
        },
        "id": "uMOqoxPuhg5f",
        "outputId": "223b2b4a-c3f6-43fa-d3e2-101126a7f914"
      },
      "execution_count": 16,
      "outputs": [
        {
          "output_type": "display_data",
          "data": {
            "image/png": "[encoded data removed]",
            "text/plain": [
              "<Figure size 360x360 with 1 Axes>"
            ]
          },
          "metadata": {
            "needs_background": "light"
          }
        }
      ]
    },
    {
      "cell_type": "code",
      "source": [
        "def save_pred(preds, file):\n",
        "  print('Saving result to {}'.format(file))\n",
        "  with open(file, 'w') as fp:\n",
        "    writer = csv.writer(fp)\n",
        "    writer.writerow(['id', 'tested_positive'])\n",
        "    for i, p in enumerate(preds):\n",
        "      writer.writerow([i, p])\n",
        "    \n",
        "preds = test(tt_set, model, device)\n",
        "save_pred(preds, 'pred.csv')"
      ],
      "metadata": {
        "colab": {
          "base_uri": "https://localhost:8080/"
        },
        "id": "HBg2JzO2iwF-",
        "outputId": "fd3200c5-c2df-425f-d055-ab925210b63c"
      },
      "execution_count": 18,
      "outputs": [
        {
          "output_type": "stream",
          "name": "stdout",
          "text": [
            "Saving result to pred.csv\n"
          ]
        }
      ]
    }
  ]
}